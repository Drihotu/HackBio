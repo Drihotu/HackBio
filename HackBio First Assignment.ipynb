{
 "cells": [
  {
   "cell_type": "code",
   "execution_count": 18,
   "id": "ab64d7af-9ef9-4dda-a075-373c558fe439",
   "metadata": {
    "tags": []
   },
   "outputs": [
    {
     "name": "stdout",
     "output_type": "stream",
     "text": [
      "{'Name': ['Samuel Eneojo Akor', 'Amaka Madubuike', 'precious-Gift Alele', 'Balamirra Yegneswaran', 'Danboyi Cynthia'], 'Slack_Username': ['SamuelEA', 'AmakaMadubuike', 'PreciousGift', 'Mirra', 'DrIhotu'], 'Email': ['Akorsamuel@gmail.com', 'amakamadubuike2023@gmail.com', 'precious1gift@gmail.com', 'mirra2326@gmail.com', 'cynthiadanboyi05@gmail.com'], 'Hobby': ['Music', 'Reading fiction', 'Enjoying nature', 'Music', 'Graphic design'], 'Country': ['Nigeria', 'Nigeria', 'Nigeria', 'India', 'Nigeria'], 'Discipline': ['Biotechnology', 'Physiology', 'Health Informatics', 'Biotechnology', 'Veterinary medicine'], 'Preferred_Language': ['Python', 'R', 'R', 'Python', 'Python']}\n"
     ]
    }
   ],
   "source": [
    "Cynthia_dictionary = {\n",
    "    \"Name\": [\"Samuel Eneojo Akor\",\"Amaka Madubuike\",\"precious-Gift Alele\",\"Balamirra Yegneswaran\",\"Danboyi Cynthia\"],\n",
    "    \"Slack_Username\":[\"SamuelEA\",\"AmakaMadubuike\",\"PreciousGift\",\"Mirra\",\"DrIhotu\"],\n",
    "    \"Email\":[\"Akorsamuel@gmail.com\",\"amakamadubuike2023@gmail.com\",\"precious1gift@gmail.com\",\"mirra2326@gmail.com\",\"cynthiadanboyi05@gmail.com\"],\n",
    "    \"Hobby\":[\"Music\",\"Reading fiction\",\"Enjoying nature\",\"Music\",\"Graphic design\"],\n",
    "    \"Country\":[\"Nigeria\",\"Nigeria\",\"Nigeria\",\"India\",\"Nigeria\"],\n",
    "    \"Discipline\":[\"Biotechnology\",\"Physiology\",\"Health Informatics\",\"Biotechnology\",\"Veterinary medicine\"],\n",
    "    \"Preferred_Language\":[\"Python\",\"R\",\"R\",\"Python\",\"Python\"],\n",
    "}\n",
    "print(Cynthia_dictionary)"
   ]
  }
 ],
 "metadata": {
  "kernelspec": {
   "display_name": "Python 3 (ipykernel)",
   "language": "python",
   "name": "python3"
  },
  "language_info": {
   "codemirror_mode": {
    "name": "ipython",
    "version": 3
   },
   "file_extension": ".py",
   "mimetype": "text/x-python",
   "name": "python",
   "nbconvert_exporter": "python",
   "pygments_lexer": "ipython3",
   "version": "3.11.5"
  }
 },
 "nbformat": 4,
 "nbformat_minor": 5
}
